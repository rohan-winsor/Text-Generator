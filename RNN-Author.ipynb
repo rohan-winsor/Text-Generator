{
 "cells": [
  {
   "cell_type": "code",
   "execution_count": 44,
   "metadata": {},
   "outputs": [],
   "source": [
    "from keras.preprocessing.text import Tokenizer\n",
    "from nltk.tokenize import sent_tokenize\n",
    "import numpy as np\n",
    "from sklearn.utils import shuffle\n",
    "from keras.models import Sequential\n",
    "from keras.layers import LSTM, Dense, Dropout, Masking, Embedding\n",
    "from keras.callbacks import EarlyStopping, ModelCheckpoint"
   ]
  },
  {
   "cell_type": "code",
   "execution_count": 2,
   "metadata": {},
   "outputs": [
    {
     "data": {
      "text/plain": [
       "5338885"
      ]
     },
     "execution_count": 2,
     "metadata": {},
     "output_type": "execute_result"
    }
   ],
   "source": [
    "with open(\"ShakeWord.txt\",\"r\") as f:\n",
    "    shakesWords = f.read()\n",
    "len(shakesWords)"
   ]
  },
  {
   "cell_type": "code",
   "execution_count": 3,
   "metadata": {},
   "outputs": [],
   "source": [
    "shakesWordsTokens  = sent_tokenize(shakesWords)"
   ]
  },
  {
   "cell_type": "code",
   "execution_count": 4,
   "metadata": {},
   "outputs": [
    {
     "data": {
      "text/plain": [
       "'If my slight muse do please these curious days,\\n    The pain be mine, but thine shall be the praise.'"
      ]
     },
     "execution_count": 4,
     "metadata": {},
     "output_type": "execute_result"
    }
   ],
   "source": [
    "shakesWordsTokens[100]"
   ]
  },
  {
   "cell_type": "code",
   "execution_count": 5,
   "metadata": {},
   "outputs": [],
   "source": [
    "tokenizer = Tokenizer(num_words=None, filters='\\n',lower= True,split= ' ')\n",
    "tokenizer.fit_on_texts(shakesWordsTokens)"
   ]
  },
  {
   "cell_type": "code",
   "execution_count": 6,
   "metadata": {},
   "outputs": [],
   "source": [
    "sequences = tokenizer.texts_to_sequences(shakesWordsTokens)"
   ]
  },
  {
   "cell_type": "code",
   "execution_count": 7,
   "metadata": {},
   "outputs": [
    {
     "data": {
      "text/plain": [
       "[32,\n",
       " 7,\n",
       " 3111,\n",
       " 3371,\n",
       " 33,\n",
       " 257,\n",
       " 88,\n",
       " 6768,\n",
       " 2503,\n",
       " 1,\n",
       " 2088,\n",
       " 17,\n",
       " 715,\n",
       " 19,\n",
       " 262,\n",
       " 31,\n",
       " 17,\n",
       " 1,\n",
       " 3224]"
      ]
     },
     "execution_count": 7,
     "metadata": {},
     "output_type": "execute_result"
    }
   ],
   "source": [
    "sequences[100]"
   ]
  },
  {
   "cell_type": "code",
   "execution_count": 8,
   "metadata": {},
   "outputs": [
    {
     "data": {
      "text/plain": [
       "'if my slight muse do please these curious days, the pain be mine, but thine shall be the praise.'"
      ]
     },
     "execution_count": 8,
     "metadata": {},
     "output_type": "execute_result"
    }
   ],
   "source": [
    "word_idx = tokenizer.index_word\n",
    "' '.join(word_idx[w] for w in sequences[100])"
   ]
  },
  {
   "cell_type": "code",
   "execution_count": 9,
   "metadata": {},
   "outputs": [],
   "source": [
    "# creating features and labels \n",
    "# 1-50 features and 51 label then 2-51 as lables and 52 as label and so on\n",
    "feat = []\n",
    "label = []\n",
    "\n",
    "training_length = 50\n",
    "\n",
    "for seq in sequences:\n",
    "    # creating traning examples \n",
    "    for i in range(training_length, len(seq)):\n",
    "        extract = seq[i - training_length:i + 1]\n",
    "        feat.append(extract[:-1])\n",
    "        label.append(extract[-1])\n",
    "        \n",
    "features = np.array(feat)"
   ]
  },
  {
   "cell_type": "code",
   "execution_count": 10,
   "metadata": {},
   "outputs": [
    {
     "data": {
      "text/plain": [
       "(26603, 50)"
      ]
     },
     "execution_count": 10,
     "metadata": {},
     "output_type": "execute_result"
    }
   ],
   "source": [
    "features.shape"
   ]
  },
  {
   "cell_type": "code",
   "execution_count": 11,
   "metadata": {},
   "outputs": [
    {
     "data": {
      "text/plain": [
       "(26603, 59187)"
      ]
     },
     "execution_count": 11,
     "metadata": {},
     "output_type": "execute_result"
    }
   ],
   "source": [
    "# one hot-encoding for more effective training\n",
    "nums_words = len(word_idx) + 1\n",
    "\n",
    "label_array = np.zeros((len(features), nums_words), dtype= np.int8)\n",
    "\n",
    "# One hot encode the labels\n",
    "for example_index, word_index in enumerate(label):\n",
    "    label_array[example_index, word_index] = 1\n",
    "    \n",
    "label_array.shape"
   ]
  },
  {
   "cell_type": "code",
   "execution_count": 12,
   "metadata": {},
   "outputs": [
    {
     "data": {
      "text/plain": [
       "array([0, 0, 0, ..., 0, 0, 0], dtype=int8)"
      ]
     },
     "execution_count": 12,
     "metadata": {},
     "output_type": "execute_result"
    }
   ],
   "source": [
    "label_array[10]"
   ]
  },
  {
   "cell_type": "code",
   "execution_count": 13,
   "metadata": {},
   "outputs": [
    {
     "data": {
      "text/plain": [
       "'thy'"
      ]
     },
     "execution_count": 13,
     "metadata": {},
     "output_type": "execute_result"
    }
   ],
   "source": [
    "# find the word corresponding to encoding \n",
    "word_idx[np.argmax(label_array[10])]"
   ]
  },
  {
   "cell_type": "code",
   "execution_count": 23,
   "metadata": {},
   "outputs": [],
   "source": [
    "RANDOM_STATE = 50\n",
    "EPOCHS = 150\n",
    "BATCH_SIZE = 2048\n",
    "TRAINING_LENGTH = 50\n",
    "TRAIN_FRACTION = 0.7\n",
    "LSTM_CELLS = 64\n",
    "VERBOSE = 0\n",
    "SAVE_MODEL = True\n",
    "def create_train_valid(features, labels, num_words, train_fraction=TRAIN_FRACTION):\n",
    "    \"\"\"Create training and validation features and labels.\"\"\"\n",
    "\n",
    "    # Randomly shuffle features and labels\n",
    "    features, labels = shuffle(features, labels, random_state=RANDOM_STATE)\n",
    "\n",
    "    # Decide on number of samples for training\n",
    "    train_end = int(train_fraction * len(labels))\n",
    "\n",
    "    train_features = np.array(features[:train_end])\n",
    "    valid_features = np.array(features[train_end:])\n",
    "\n",
    "    train_labels = labels[:train_end]\n",
    "    valid_labels = labels[train_end:]\n",
    "\n",
    "    # Convert to arrays\n",
    "    X_train, X_valid = np.array(train_features), np.array(valid_features)\n",
    "\n",
    "    # Using int8 for memory savings\n",
    "    y_train = np.zeros((len(train_labels), num_words), dtype=np.int8)\n",
    "    y_valid = np.zeros((len(valid_labels), num_words), dtype=np.int8)\n",
    "\n",
    "    # One hot encoding of labels\n",
    "    for example_index, word_index in enumerate(train_labels):\n",
    "        y_train[example_index, word_index] = 1\n",
    "\n",
    "    for example_index, word_index in enumerate(valid_labels):\n",
    "        y_valid[example_index, word_index] = 1\n",
    "\n",
    "    return X_train, X_valid, y_train, y_valid\n"
   ]
  },
  {
   "cell_type": "code",
   "execution_count": 24,
   "metadata": {},
   "outputs": [],
   "source": [
    "X_train, X_valid, y_train, y_valid = create_train_valid(features, label,num_words = len(word_idx) + 1)"
   ]
  },
  {
   "cell_type": "code",
   "execution_count": 25,
   "metadata": {},
   "outputs": [],
   "source": [
    "#model creattion and compile"
   ]
  },
  {
   "cell_type": "code",
   "execution_count": 37,
   "metadata": {},
   "outputs": [
    {
     "data": {
      "text/plain": [
       "(400000, 101)"
      ]
     },
     "execution_count": 37,
     "metadata": {},
     "output_type": "execute_result"
    }
   ],
   "source": [
    "glove_vectors = 'glove.6B.100d.txt'\n",
    "glove = np.loadtxt(glove_vectors, dtype='str', comments=None, encoding='utf8')\n",
    "glove.shape"
   ]
  },
  {
   "cell_type": "code",
   "execution_count": 42,
   "metadata": {},
   "outputs": [],
   "source": [
    "# Extract the vectors and words\n",
    "vectors = glove[:, 1:].astype('float')\n",
    "words = glove[:, 0]\n",
    "\n",
    "# Create lookup of words to vectors\n",
    "word_lookup = {word: vector for word, vector in zip(words, vectors)}\n",
    "\n",
    "# New matrix to hold word embeddings\n",
    "embedding_matrix = np.zeros((nums_words, vectors.shape[1]))\n",
    "\n",
    "for i, word in enumerate(word_idx.keys()):\n",
    "    # Look up the word embedding\n",
    "    vector = word_lookup.get(word, None)\n",
    "\n",
    "    # Record in matrix\n",
    "    if vector is not None:\n",
    "        embedding_matrix[i + 1, :] = vector"
   ]
  },
  {
   "cell_type": "code",
   "execution_count": 43,
   "metadata": {},
   "outputs": [
    {
     "ename": "NameError",
     "evalue": "name 'num_words' is not defined",
     "output_type": "error",
     "traceback": [
      "\u001b[1;31m---------------------------------------------------------------------------\u001b[0m",
      "\u001b[1;31mNameError\u001b[0m                                 Traceback (most recent call last)",
      "\u001b[1;32m<ipython-input-43-33920e5f1bcb>\u001b[0m in \u001b[0;36m<module>\u001b[1;34m\u001b[0m\n\u001b[0;32m      7\u001b[0m \u001b[1;33m\u001b[0m\u001b[0m\n\u001b[0;32m      8\u001b[0m \u001b[1;31m# New matrix to hold word embeddings\u001b[0m\u001b[1;33m\u001b[0m\u001b[1;33m\u001b[0m\u001b[1;33m\u001b[0m\u001b[0m\n\u001b[1;32m----> 9\u001b[1;33m \u001b[0membedding_matrix\u001b[0m \u001b[1;33m=\u001b[0m \u001b[0mnp\u001b[0m\u001b[1;33m.\u001b[0m\u001b[0mzeros\u001b[0m\u001b[1;33m(\u001b[0m\u001b[1;33m(\u001b[0m\u001b[0mnum_words\u001b[0m\u001b[1;33m,\u001b[0m \u001b[0mvectors\u001b[0m\u001b[1;33m.\u001b[0m\u001b[0mshape\u001b[0m\u001b[1;33m[\u001b[0m\u001b[1;36m1\u001b[0m\u001b[1;33m]\u001b[0m\u001b[1;33m)\u001b[0m\u001b[1;33m)\u001b[0m\u001b[1;33m\u001b[0m\u001b[1;33m\u001b[0m\u001b[0m\n\u001b[0m\u001b[0;32m     10\u001b[0m \u001b[1;33m\u001b[0m\u001b[0m\n\u001b[0;32m     11\u001b[0m \u001b[1;32mfor\u001b[0m \u001b[0mi\u001b[0m\u001b[1;33m,\u001b[0m \u001b[0mword\u001b[0m \u001b[1;32min\u001b[0m \u001b[0menumerate\u001b[0m\u001b[1;33m(\u001b[0m\u001b[0mword_idx\u001b[0m\u001b[1;33m.\u001b[0m\u001b[0mkeys\u001b[0m\u001b[1;33m(\u001b[0m\u001b[1;33m)\u001b[0m\u001b[1;33m)\u001b[0m\u001b[1;33m:\u001b[0m\u001b[1;33m\u001b[0m\u001b[1;33m\u001b[0m\u001b[0m\n",
      "\u001b[1;31mNameError\u001b[0m: name 'num_words' is not defined"
     ]
    }
   ],
   "source": [
    "# Extract the vectors and words\n",
    "vectors = glove[:, 1:].astype('float')\n",
    "words = glove[:, 0]\n",
    "\n",
    "# Create lookup of words to vectors\n",
    "word_lookup = {word: vector for word, vector in zip(words, vectors)}\n",
    "\n",
    "# New matrix to hold word embeddings\n",
    "embedding_matrix = np.zeros((num_words, vectors.shape[1]))\n",
    "\n",
    "for i, word in enumerate(word_idx.keys()):\n",
    "    # Look up the word embedding\n",
    "    vector = word_lookup.get(word, None)\n",
    "\n",
    "    # Record in matrix\n",
    "    if vector is not None:\n",
    "        embedding_matrix[i + 1, :] = vector"
   ]
  },
  {
   "cell_type": "code",
   "execution_count": 49,
   "metadata": {},
   "outputs": [],
   "source": [
    "model = Sequential()\n",
    "\n",
    "# Embedding layer\n",
    "model.add(\n",
    "    Embedding(input_dim=nums_words,\n",
    "              input_length = training_length,\n",
    "              output_dim=100,\n",
    "              weights=[embedding_matrix],\n",
    "              trainable=False,\n",
    "              mask_zero=True))\n",
    "\n",
    "# Masking layer for pre-trained embeddings\n",
    "model.add(Masking(mask_value=0.0))\n",
    "\n",
    "# Recurrent layer\n",
    "model.add(LSTM(64, return_sequences=False, \n",
    "               dropout=0.1, recurrent_dropout=0.1))\n",
    "\n",
    "# Fully connected layer\n",
    "model.add(Dense(64, activation='relu'))\n",
    "\n",
    "# Dropout for regularization\n",
    "model.add(Dropout(0.5))\n",
    "\n",
    "# Output layer\n",
    "model.add(Dense(nums_words, activation='softmax'))\n",
    "\n",
    "# Compile the model\n",
    "model.compile(\n",
    "    optimizer='adam', loss='categorical_crossentropy', metrics=['accuracy'])"
   ]
  },
  {
   "cell_type": "code",
   "execution_count": 50,
   "metadata": {},
   "outputs": [
    {
     "data": {
      "text/plain": [
       "array([-0.53943  , -1.0541   ,  0.10218  , -0.36593  , -0.43664  ,\n",
       "       -0.35874  , -0.082717 , -0.16641  ,  0.19637  ,  0.24793  ,\n",
       "       -0.19658  ,  0.30248  , -0.49776  ,  0.12554  , -0.69693  ,\n",
       "       -0.41446  ,  0.039589 ,  0.23527  , -0.88304  , -0.052161 ,\n",
       "       -0.48762  , -0.61307  ,  0.67959  ,  0.28287  ,  0.67792  ,\n",
       "       -0.23312  ,  0.61842  , -0.0095483,  0.16551  , -0.39402  ,\n",
       "       -0.99557  , -0.81131  ,  0.22108  ,  0.54819  ,  0.36218  ,\n",
       "       -0.16718  , -0.20254  ,  0.087024 , -0.023018 ,  0.4129   ,\n",
       "       -0.1662   ,  0.21074  , -0.32115  , -0.48445  ,  0.3132   ,\n",
       "       -0.5886   , -0.19807  , -0.37927  ,  0.078238 ,  0.012201 ,\n",
       "        0.15415  ,  0.63248  , -0.072892 , -0.36836  , -0.25165  ,\n",
       "       -0.35199  , -0.64826  ,  0.55861  , -0.98292  , -0.026837 ,\n",
       "        0.095128 , -0.17437  ,  0.28334  , -0.38278  , -0.44446  ,\n",
       "        0.64377  ,  0.68749  ,  0.60716  ,  0.54148  ,  1.0806   ,\n",
       "       -0.21919  , -0.62316  , -0.056255 , -0.85292  , -0.031757 ,\n",
       "       -0.32599  , -0.62597  , -0.48246  , -0.29173  ,  0.7533   ,\n",
       "        0.56378  , -0.011776 ,  0.14362  , -0.22876  ,  0.78335  ,\n",
       "        0.1219   , -0.71609  , -0.30458  ,  0.069806 , -0.33492  ,\n",
       "        0.079588 , -0.32704  ,  0.54931  , -0.27477  ,  0.31811  ,\n",
       "        0.31195  , -0.73893  , -0.40665  , -0.91746  ,  0.023971 ])"
      ]
     },
     "execution_count": 50,
     "metadata": {},
     "output_type": "execute_result"
    }
   ],
   "source": [
    "word_lookup['rohan']"
   ]
  },
  {
   "cell_type": "code",
   "execution_count": 52,
   "metadata": {},
   "outputs": [
    {
     "name": "stdout",
     "output_type": "stream",
     "text": [
      "Train on 18622 samples, validate on 7981 samples\n",
      "Epoch 1/10\n",
      "18622/18622 [==============================] - 41s 2ms/step - loss: 10.9813 - accuracy: 0.0205 - val_loss: 10.9742 - val_accuracy: 0.0317\n",
      "Epoch 2/10\n",
      "18622/18622 [==============================] - 42s 2ms/step - loss: 10.9663 - accuracy: 0.0299 - val_loss: 10.9624 - val_accuracy: 0.0317\n",
      "Epoch 3/10\n",
      "18622/18622 [==============================] - 42s 2ms/step - loss: 10.9515 - accuracy: 0.0304 - val_loss: 10.9517 - val_accuracy: 0.0317\n",
      "Epoch 4/10\n",
      "18622/18622 [==============================] - 42s 2ms/step - loss: 10.9372 - accuracy: 0.0304 - val_loss: 10.9396 - val_accuracy: 0.0317\n",
      "Epoch 5/10\n",
      "18622/18622 [==============================] - 43s 2ms/step - loss: 10.9224 - accuracy: 0.0304 - val_loss: 10.9267 - val_accuracy: 0.0317\n",
      "Epoch 6/10\n",
      "18622/18622 [==============================] - 43s 2ms/step - loss: 10.9077 - accuracy: 0.0304 - val_loss: 10.9160 - val_accuracy: 0.0317\n",
      "Epoch 7/10\n",
      "18622/18622 [==============================] - 43s 2ms/step - loss: 10.8932 - accuracy: 0.0304 - val_loss: 10.9039 - val_accuracy: 0.0317\n",
      "Epoch 8/10\n",
      "18622/18622 [==============================] - 45s 2ms/step - loss: 10.8786 - accuracy: 0.0304 - val_loss: 10.8927 - val_accuracy: 0.0317\n",
      "Epoch 9/10\n",
      "18622/18622 [==============================] - 44s 2ms/step - loss: 10.8642 - accuracy: 0.0304 - val_loss: 10.8809 - val_accuracy: 0.0317\n",
      "Epoch 10/10\n",
      "18622/18622 [==============================] - 44s 2ms/step - loss: 10.8497 - accuracy: 0.0304 - val_loss: 10.8683 - val_accuracy: 0.0317\n"
     ]
    }
   ],
   "source": [
    "history = model.fit(X_train,  y_train, \n",
    "                    batch_size=2048, epochs=10,\n",
    "                    validation_data=(X_valid, y_valid))"
   ]
  },
  {
   "cell_type": "code",
   "execution_count": 53,
   "metadata": {},
   "outputs": [
    {
     "name": "stdout",
     "output_type": "stream",
     "text": [
      "7981/7981 [==============================] - 11s 1ms/step\n"
     ]
    },
    {
     "data": {
      "text/plain": [
       "[10.868319307797357, 0.03170028701424599]"
      ]
     },
     "execution_count": 53,
     "metadata": {},
     "output_type": "execute_result"
    }
   ],
   "source": [
    "model.evaluate(X_valid, y_valid)"
   ]
  },
  {
   "cell_type": "code",
   "execution_count": null,
   "metadata": {},
   "outputs": [],
   "source": []
  }
 ],
 "metadata": {
  "kernelspec": {
   "display_name": "Python 3",
   "language": "python",
   "name": "python3"
  },
  "language_info": {
   "codemirror_mode": {
    "name": "ipython",
    "version": 3
   },
   "file_extension": ".py",
   "mimetype": "text/x-python",
   "name": "python",
   "nbconvert_exporter": "python",
   "pygments_lexer": "ipython3",
   "version": "3.7.4"
  }
 },
 "nbformat": 4,
 "nbformat_minor": 2
}
